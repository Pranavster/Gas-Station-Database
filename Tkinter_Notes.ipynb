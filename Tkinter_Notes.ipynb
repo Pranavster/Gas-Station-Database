{
 "cells": [
  {
   "cell_type": "markdown",
   "id": "57730224",
   "metadata": {},
   "source": [
    "Tkinter\n",
    "    -allows you to build GUI"
   ]
  },
  {
   "cell_type": "code",
   "execution_count": null,
   "id": "86c2eb79",
   "metadata": {},
   "outputs": [],
   "source": []
  },
  {
   "cell_type": "code",
   "execution_count": 1,
   "id": "da1669d9",
   "metadata": {},
   "outputs": [],
   "source": [
    "from tkinter import *\n",
    "from tkinter.ttk import *"
   ]
  },
  {
   "cell_type": "markdown",
   "id": "81862053",
   "metadata": {},
   "source": [
    "Build Tkinter box with entries"
   ]
  },
  {
   "cell_type": "code",
   "execution_count": null,
   "id": "727989d2",
   "metadata": {},
   "outputs": [
    {
     "ename": "KeyboardInterrupt",
     "evalue": "",
     "output_type": "error",
     "traceback": [
      "\u001b[1;31m---------------------------------------------------------------------------\u001b[0m",
      "\u001b[1;31mKeyboardInterrupt\u001b[0m                         Traceback (most recent call last)",
      "Cell \u001b[1;32mIn[3], line 14\u001b[0m\n\u001b[0;32m     12\u001b[0m e1\u001b[38;5;241m.\u001b[39mgrid(row \u001b[38;5;241m=\u001b[39m \u001b[38;5;241m0\u001b[39m, column \u001b[38;5;241m=\u001b[39m \u001b[38;5;241m1\u001b[39m)\n\u001b[0;32m     13\u001b[0m e2\u001b[38;5;241m.\u001b[39mgrid(row \u001b[38;5;241m=\u001b[39m \u001b[38;5;241m1\u001b[39m, column \u001b[38;5;241m=\u001b[39m \u001b[38;5;241m1\u001b[39m)\n\u001b[1;32m---> 14\u001b[0m mainloop()\n",
      "File \u001b[1;32mc:\\anaconda\\Lib\\tkinter\\__init__.py:650\u001b[0m, in \u001b[0;36mmainloop\u001b[1;34m(n)\u001b[0m\n\u001b[0;32m    648\u001b[0m \u001b[38;5;28;01mdef\u001b[39;00m \u001b[38;5;21mmainloop\u001b[39m(n\u001b[38;5;241m=\u001b[39m\u001b[38;5;241m0\u001b[39m):\n\u001b[0;32m    649\u001b[0m \u001b[38;5;250m    \u001b[39m\u001b[38;5;124;03m\"\"\"Run the main loop of Tcl.\"\"\"\u001b[39;00m\n\u001b[1;32m--> 650\u001b[0m     _get_default_root(\u001b[38;5;124m'\u001b[39m\u001b[38;5;124mrun the main loop\u001b[39m\u001b[38;5;124m'\u001b[39m)\u001b[38;5;241m.\u001b[39mtk\u001b[38;5;241m.\u001b[39mmainloop(n)\n",
      "\u001b[1;31mKeyboardInterrupt\u001b[0m: "
     ]
    },
    {
     "ename": "",
     "evalue": "",
     "output_type": "error",
     "traceback": [
      "\u001b[1;31mThe Kernel crashed while executing code in the current cell or a previous cell. \n",
      "\u001b[1;31mPlease review the code in the cell(s) to identify a possible cause of the failure. \n",
      "\u001b[1;31mClick <a href='https://aka.ms/vscodeJupyterKernelCrash'>here</a> for more info. \n",
      "\u001b[1;31mView Jupyter <a href='command:jupyter.viewOutput'>log</a> for further details."
     ]
    }
   ],
   "source": [
    "root = Tk()\n",
    "\n",
    "#root.title(\"Welcome to GeeksForGeeks\")\n",
    "#root.geometry(\"200x200\")\n",
    "#root.mainloop()\n",
    "\n",
    "\n",
    "Label(root, text = \"First Name\").grid(row = 0)\n",
    "Label(root, text = \"Last Name\").grid(row = 1)\n",
    "e1 = Entry(root)\n",
    "e2 = Entry(root)\n",
    "e1.grid(row = 0, column = 1)\n",
    "e2.grid(row = 1, column = 1)\n",
    "mainloop()\n"
   ]
  },
  {
   "cell_type": "code",
   "execution_count": null,
   "id": "a6e06614",
   "metadata": {},
   "outputs": [],
   "source": []
  },
  {
   "cell_type": "markdown",
   "id": "f6d19897",
   "metadata": {},
   "source": [
    "Note: don't pick pack and grid in the same container, "
   ]
  },
  {
   "cell_type": "markdown",
   "id": "12253306",
   "metadata": {},
   "source": [
    "e1 = Entry(root).pack(padx = 640, pady = 60)\n",
    "e1.pack(padx = 640, pady = 60)\n",
    "\n",
    "e2 = Entry(root)\n",
    "e2.pack(padx = 640, pady = 60)\n",
    "\n",
    "e3 = Entry(root)\n",
    "e3.pack(padx = 640, pady = 60)\n",
    "\n",
    "e4 = Entry(root)\n",
    "e4.pack(padx = 640, pady = 60)\n",
    "\n",
    "e5 = Entry(root)\n",
    "e5.pack(padx = 640, pady = 60)\n",
    "\n",
    "e6 = Entry(root)    \n",
    "e6.pack(padx = 640, pady = 60)"
   ]
  }
 ],
 "metadata": {
  "kernelspec": {
   "display_name": "base",
   "language": "python",
   "name": "python3"
  },
  "language_info": {
   "codemirror_mode": {
    "name": "ipython",
    "version": 3
   },
   "file_extension": ".py",
   "mimetype": "text/x-python",
   "name": "python",
   "nbconvert_exporter": "python",
   "pygments_lexer": "ipython3",
   "version": "3.11.5"
  }
 },
 "nbformat": 4,
 "nbformat_minor": 5
}
